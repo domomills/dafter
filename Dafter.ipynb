{
 "cells": [
  {
   "cell_type": "markdown",
   "id": "55783437",
   "metadata": {},
   "source": [
    "Import dependancies."
   ]
  },
  {
   "cell_type": "code",
   "execution_count": 1,
   "id": "97bd9f0e",
   "metadata": {},
   "outputs": [],
   "source": [
    "import numpy as np\n",
    "import pandas as pd\n",
    "import seaborn as sns\n",
    "import matplotlib.pyplot as plt\n",
    "from matplotlib.patches import Rectangle\n",
    "import ipywidgets as widgets\n",
    "from IPython.display import display\n",
    "from sklearn.decomposition import TruncatedSVD"
   ]
  },
  {
   "cell_type": "markdown",
   "id": "69372e8a",
   "metadata": {},
   "source": [
    "Matplotlib settings."
   ]
  },
  {
   "cell_type": "code",
   "execution_count": 2,
   "id": "4e3d32d1",
   "metadata": {},
   "outputs": [],
   "source": [
    "plt.rcParams['figure.figsize'] = [5, 5]\n",
    "plt.rcParams['figure.dpi'] = 100"
   ]
  },
  {
   "cell_type": "markdown",
   "id": "877fcaea",
   "metadata": {},
   "source": [
    "Expansion specific global variables."
   ]
  },
  {
   "cell_type": "code",
   "execution_count": 3,
   "id": "8044e58e",
   "metadata": {},
   "outputs": [],
   "source": [
    "EXPANSION = 'SIR'\n",
    "CSV_NAMES = {'MID':\"game_data_public.MID.PremierDraft.csv\",\n",
    "             'NEO':\"game_data_public.NEO.PremierDraft.csv\",\n",
    "             'SIR':\"game_data_public.SIR.PremierDraft.csv\"}\n",
    "\n",
    "USER_WIN_RATE_BUCKET = {'MID':\"user_win_rate_bucket\",\n",
    "                        'NEO':\"user_game_win_rate_bucket\",\n",
    "                        'SIR':\"user_game_win_rate_bucket\"}\n",
    "#To get information on new set use: df.info(max_cols=1106)"
   ]
  },
  {
   "cell_type": "markdown",
   "id": "dbd5ee49",
   "metadata": {},
   "source": [
    "## Import 17lands data"
   ]
  },
  {
   "cell_type": "markdown",
   "id": "aa181ecf",
   "metadata": {},
   "source": [
    "Define data types for importing 17lands data."
   ]
  },
  {
   "cell_type": "code",
   "execution_count": 4,
   "id": "4d9dcf3a",
   "metadata": {},
   "outputs": [],
   "source": [
    "MAX_MULLIGANS = 7\n",
    "MAX_TURNS = 30\n",
    "\n",
    "BASE_COLS = {\n",
    "    'draft_id': str,\n",
    "    'history_id': int,\n",
    "    'time': str,\n",
    "    'expansion': str,\n",
    "    'format': str,\n",
    "    'user_rank': str,\n",
    "    'oppo_rank': str,\n",
    "    'game_index': 'int8',\n",
    "    'user_deck_colors': str,\n",
    "    'oppo_deck_colors': str,\n",
    "    'user_mulligans': 'int8',\n",
    "    'oppo_mulligans': 'int8',\n",
    "    'on_play': bool,\n",
    "    'turns': 'int8',\n",
    "    'won': bool,\n",
    "    'missing_diffs': 'int8',\n",
    "}\n",
    "\n",
    "PER_TURN_COLS = {\n",
    "    'cards_drawn': str,\n",
    "    'cards_discarded': str,\n",
    "    'lands_played': str,\n",
    "    'cards_foretold': str,\n",
    "    'creatures_cast': str,\n",
    "    'non_creatures_cast': str,\n",
    "    'user_instants_sorceries_cast': str,\n",
    "    'oppo_instants_sorceries_cast': str,\n",
    "    'user_abilities': str,\n",
    "    'oppo_abilities': str,\n",
    "    'user_cards_learned': str,\n",
    "    'oppo_cards_learned': str,\n",
    "    'creatures_attacked': str,\n",
    "    'creatures_blocked': str,\n",
    "    'creatures_unblocked': str,\n",
    "    'creatures_blocking': str,\n",
    "    'player_combat_damage_dealt': 'int8',\n",
    "    'user_creatures_killed_combat': str,\n",
    "    'oppo_creatures_killed_combat': str,\n",
    "    'user_creatures_killed_non_combat': str,\n",
    "    'oppo_creatures_killed_non_combat': str,\n",
    "    'user_mana_spent': 'int8',\n",
    "    'oppo_mana_spent': 'int8',\n",
    "    'eot_user_cards_in_hand': str,\n",
    "    'eot_oppo_cards_in_hand': str,\n",
    "    'eot_user_lands_in_play': str,\n",
    "    'eot_oppo_lands_in_play': str,\n",
    "    'eot_user_creatures_in_play': str,\n",
    "    'eot_oppo_creatures_in_play': str,\n",
    "    'eot_user_non_creatures_in_play': str,\n",
    "    'eot_oppo_non_creatures_in_play': str,\n",
    "    'eot_user_life': 'int8',\n",
    "    'eot_oppo_life': 'int8',\n",
    "}\n",
    "\n",
    "SUMMARY_COLS = {\n",
    "    'cards_drawn': 'int8',\n",
    "    'cards_discarded': 'int8',\n",
    "    'lands_played': 'int8',\n",
    "    'cards_foretold': 'int8',\n",
    "    'creatures_cast': 'int8',\n",
    "    'non_creatures_cast': 'int8',\n",
    "    'instants_sorceries_cast': 'int8',\n",
    "    'cards_learned': 'int8',\n",
    "    'mana_spent': 'int16',\n",
    "}\n",
    "\n",
    "def get_dtypes():\n",
    "    dtypes = BASE_COLS.copy()\n",
    "\n",
    "    for x in range(1, MAX_MULLIGANS+1):\n",
    "        dtypes[f'candidate_hand_{x}'] = str\n",
    "    dtypes['opening_hand'] = str\n",
    "\n",
    "    for turn in range(1, MAX_TURNS+1):\n",
    "        for player in ['user', 'oppo']:\n",
    "            for k, v in PER_TURN_COLS.items():\n",
    "                dtypes[f'{player}_turn_{turn}_{k}'] = v\n",
    "            dtypes[f'{player}_turn_{turn}_eot_oppo_cards_in_hand'] = 'int8'\n",
    "        dtypes[f'oppo_turn_{turn}_cards_drawn'] = 'int8'\n",
    "\n",
    "    for player in ['user', 'oppo']:\n",
    "        for col in SUMMARY_COLS:\n",
    "            dtypes[f'{player}_total_{col}'] = 'int8'\n",
    "\n",
    "    return dtypes"
   ]
  },
  {
   "cell_type": "markdown",
   "id": "38e29ec6",
   "metadata": {},
   "source": [
    "Load 17lands data into dataframe."
   ]
  },
  {
   "cell_type": "code",
   "execution_count": 5,
   "id": "b79d3b28",
   "metadata": {
    "scrolled": false
   },
   "outputs": [],
   "source": [
    "dtypes=get_dtypes()\n",
    "df = pd.read_csv(CSV_NAMES[EXPANSION], dtype=dtypes)"
   ]
  },
  {
   "cell_type": "markdown",
   "id": "a835f211",
   "metadata": {},
   "source": [
    "Create global variables for working data and transform."
   ]
  },
  {
   "cell_type": "code",
   "execution_count": 6,
   "id": "c1bd8f75",
   "metadata": {},
   "outputs": [],
   "source": [
    "data = []\n",
    "transform = []"
   ]
  },
  {
   "cell_type": "markdown",
   "id": "de167f4a",
   "metadata": {},
   "source": [
    "# Helper functions"
   ]
  },
  {
   "cell_type": "markdown",
   "id": "ecd8f5e2",
   "metadata": {},
   "source": [
    "Applies filters to find decks based on minimum winrate, deck colors and/or included cards."
   ]
  },
  {
   "cell_type": "code",
   "execution_count": 7,
   "id": "e702e21f",
   "metadata": {},
   "outputs": [],
   "source": [
    "def apply_filters(wr, colors, cards):\n",
    "    #filter for winrate\n",
    "    data = df[df[USER_WIN_RATE_BUCKET[EXPANSION]] >= wr]\n",
    "    #filter for colors\n",
    "    if (colors != 'ALL'): \n",
    "        data = data[data.main_colors == colors]\n",
    "    #select just deck information\n",
    "    data = data.filter(regex='deck_*', axis=1).drop(columns=['deck_Forest','deck_Island','deck_Mountain','deck_Plains','deck_Swamp'])\n",
    "    #clean column names\n",
    "    data.columns = data.columns.str.lstrip('deck_')\n",
    "    #filter for specific cards\n",
    "    if (cards and (cards[0] != 'ALL')):\n",
    "        for card in cards:\n",
    "            data = data[data[card] > 0]\n",
    "    return data"
   ]
  },
  {
   "cell_type": "markdown",
   "id": "995876e7",
   "metadata": {},
   "source": [
    "SVD transform to dimensionally reduce from sparse matrix to dense for working list of decks. Returns DataFrame that is shape (n, 2)."
   ]
  },
  {
   "cell_type": "code",
   "execution_count": 8,
   "id": "1135c393",
   "metadata": {},
   "outputs": [],
   "source": [
    "def transform_svd():\n",
    "    # define transform\n",
    "    svd = TruncatedSVD()\n",
    "    # apply transform to dataset\n",
    "    t = svd.fit_transform(data)\n",
    "    #change to a DataFrame, fixing labels for t\n",
    "    return pd.DataFrame(data=t, columns=['a','b'], index=data.index)"
   ]
  },
  {
   "cell_type": "markdown",
   "id": "401ca572",
   "metadata": {},
   "source": [
    "Create scatter plot of decks. "
   ]
  },
  {
   "cell_type": "code",
   "execution_count": 9,
   "id": "368c5655",
   "metadata": {},
   "outputs": [],
   "source": [
    "def graph_scatter(data=data, transform=transform, df=df):\n",
    "    #C parameter is the winrate of deck\n",
    "    win_rates = df.loc[data.index,USER_WIN_RATE_BUCKET[EXPANSION]]\n",
    "    plt.scatter(transform['a'], transform['b'], c=win_rates, cmap='RdBu_r', s=(win_rates-win_rates.mean()).abs()*100)\n",
    "    \n",
    "    plt.grid(which='major', linestyle='-')\n",
    "    plt.grid(which='minor', linestyle='--')\n",
    "    plt.minorticks_on()"
   ]
  },
  {
   "cell_type": "markdown",
   "id": "452082ee",
   "metadata": {},
   "source": [
    "Dimensionality reduction using kurtosis-based projection pursuit: https://github.com/S-Driscoll/Projection-pursuit"
   ]
  },
  {
   "cell_type": "code",
   "execution_count": 10,
   "id": "506147e1",
   "metadata": {},
   "outputs": [],
   "source": [
    "from projpursuit import projpursuit\n",
    "def graph_scatter_ppa(decks, df=df):\n",
    "    transformed = projpursuit(decks, Meth='Mul', CenMeth='Rec', MaxMin='Min')\n",
    "    print(transformed.head())"
   ]
  },
  {
   "cell_type": "markdown",
   "id": "a6eb29e6",
   "metadata": {},
   "source": [
    "Generic function to find all unqiue values in an array plus 'ALL'."
   ]
  },
  {
   "cell_type": "code",
   "execution_count": 11,
   "id": "65e83322",
   "metadata": {},
   "outputs": [],
   "source": [
    "ALL = 'ALL'\n",
    "def unique_sorted_values_plus_ALL(array):\n",
    "    unique = array.unique().tolist()\n",
    "    unique.sort()\n",
    "    unique.insert(0, ALL)\n",
    "    return unique"
   ]
  },
  {
   "cell_type": "markdown",
   "id": "52c257ca",
   "metadata": {},
   "source": [
    "# Widgets"
   ]
  },
  {
   "cell_type": "code",
   "execution_count": 12,
   "id": "f287819d",
   "metadata": {},
   "outputs": [],
   "source": [
    "%matplotlib inline"
   ]
  },
  {
   "cell_type": "code",
   "execution_count": 13,
   "id": "f88f5e81",
   "metadata": {
    "scrolled": true
   },
   "outputs": [],
   "source": [
    "#define input widgets\n",
    "wr_slider = widgets.FloatSlider(\n",
    "    min=0,\n",
    "    max=1,\n",
    "    step=.01,\n",
    "    description='Min WR:',\n",
    "    value=0\n",
    ")\n",
    "\n",
    "color_dropdown = widgets.Dropdown(options=unique_sorted_values_plus_ALL(df.main_colors))\n",
    "\n",
    "card_selectmultiple = widgets.SelectMultiple(\n",
    "    options=unique_sorted_values_plus_ALL(\n",
    "        df.filter(regex='deck_*', axis=1).drop(columns=['deck_Forest','deck_Island','deck_Mountain','deck_Plains','deck_Swamp']).columns.str.lstrip('deck_')\n",
    "        )\n",
    "    )\n",
    "\n",
    "xmin_slider = widgets.FloatSlider(\n",
    "    min=-3,\n",
    "    max=10,\n",
    "    step=.1,\n",
    "    description='Min X:',\n",
    "    value=0\n",
    ")\n",
    "xmax_slider = widgets.FloatSlider(\n",
    "    min=-3,\n",
    "    max=10,\n",
    "    step=.1,\n",
    "    description='Max X:',\n",
    "    value=0\n",
    ")\n",
    "ymin_slider = widgets.FloatSlider(\n",
    "    min=-3,\n",
    "    max=10,\n",
    "    step=.1,\n",
    "    description='Min Y:',\n",
    "    value=0\n",
    ")\n",
    "ymax_slider = widgets.FloatSlider(\n",
    "    min=-3,\n",
    "    max=10,\n",
    "    step=.1,\n",
    "    description='Max Y:',\n",
    "    value=0\n",
    ")\n",
    "\n",
    "#define outputs\n",
    "output = widgets.Output()\n",
    "plot_output = widgets.Output()\n",
    "explore_output = widgets.Output()\n"
   ]
  },
  {
   "cell_type": "markdown",
   "id": "2789615a",
   "metadata": {},
   "source": [
    "# Event handlers:"
   ]
  },
  {
   "cell_type": "code",
   "execution_count": 14,
   "id": "fd02a2c8",
   "metadata": {},
   "outputs": [],
   "source": [
    "def common_eventhandler(wr, colors, cards):\n",
    "    #refresh outputs\n",
    "    output.clear_output(wait=True)\n",
    "    plot_output.clear_output(wait=True)\n",
    "    global data\n",
    "    data = apply_filters(wr, colors, cards)\n",
    "    global transform\n",
    "    transform = transform_svd()\n",
    "    with output:\n",
    "        display(data)\n",
    "    with plot_output:\n",
    "        #C parameter is the winrate of deck\n",
    "        win_rates = df.loc[data.index,USER_WIN_RATE_BUCKET[EXPANSION]]\n",
    "        plt.scatter(transform['a'], transform['b'], c=win_rates, cmap='RdBu_r', s=(win_rates-win_rates.mean()).abs()*100)\n",
    "    \n",
    "        plt.grid(which='major', linestyle='-')\n",
    "        plt.grid(which='minor', linestyle='--')\n",
    "        plt.minorticks_on()\n",
    "        plt.show()\n",
    "#Show a list of the average number of cards within a given cluster of transform 't' defined by the boundries amin, amax, bmin and bmax.\n",
    "def card_avgs(amin, amax, bmin, bmax, num_cards=50):\n",
    "    t = transform\n",
    "    #refresh output\n",
    "    explore_output.clear_output(wait=True)\n",
    "    plot_output.clear_output(wait=True)\n",
    "    #find decks within the boundries\n",
    "    t = t[t['a']>=amin]\n",
    "    t = t[t['a']<=amax]\n",
    "    t = t[t['b']>=bmin]\n",
    "    t = t[t['b']<=bmax]\n",
    "    #pull out the corresponding rows from decks\n",
    "    quad = data.loc[t.index]\n",
    "    #remove any columns with all zeros\n",
    "    quad = quad.loc[:, (quad != 0).any(axis=0)]\n",
    "    #find average number of cards within all decks\n",
    "    all_avgs = data.loc[:, quad.columns].mean()\n",
    "    p = (f'{quad.shape[0]} decks in area. With average win rate of {df.loc[quad.index][USER_WIN_RATE_BUCKET[EXPANSION]].mean() * 100}%')\n",
    "    #take the mean of each column and then find the ratio of card average in quad vs entire sample\n",
    "    quad = quad.mean()\n",
    "    quad = pd.concat([quad, quad/all_avgs], axis=1, keys=['Average', 'Synergy'])\n",
    "    #sort by highest average number of cards\n",
    "    quad = quad.sort_values(by='Average', ascending=False)\n",
    "    with explore_output:\n",
    "        print(p, quad.head(num_cards))\n",
    "    with plot_output:\n",
    "        plt.gca().add_patch(Rectangle((xmin_slider.value,ymin_slider.value),\n",
    "                                      xmax_slider.value-xmin_slider.value,\n",
    "                                      ymax_slider.value-ymin_slider.value,\n",
    "                edgecolor='red',\n",
    "                facecolor='none',\n",
    "                lw=2))\n",
    "                #C parameter is the winrate of deck\n",
    "        win_rates = df.loc[data.index,USER_WIN_RATE_BUCKET[EXPANSION]]\n",
    "        plt.scatter(transform['a'], transform['b'], c=win_rates, cmap='RdBu_r', s=(win_rates-win_rates.mean()).abs()*100)\n",
    "    \n",
    "        plt.grid(which='major', linestyle='-')\n",
    "        plt.grid(which='minor', linestyle='--')\n",
    "        plt.minorticks_on()\n",
    "        plt.show()"
   ]
  },
  {
   "cell_type": "markdown",
   "id": "8d13d161",
   "metadata": {},
   "source": [
    "Defining and binding event handlers to widgets."
   ]
  },
  {
   "cell_type": "code",
   "execution_count": 15,
   "id": "75504307",
   "metadata": {},
   "outputs": [],
   "source": [
    "def wr_slider_eventhandler(change):\n",
    "    common_eventhandler(change.new, color_dropdown.value, card_selectmultiple.value)\n",
    "\n",
    "def color_dropdown_eventhandler(change):\n",
    "    common_eventhandler(wr_slider.value, change.new, card_selectmultiple.value)\n",
    "    \n",
    "def card_selectmultiple_eventhandler(change):\n",
    "    common_eventhandler(wr_slider.value, color_dropdown.value, change.new)\n",
    "\n",
    "def xmin_slider_eventhandler(change):\n",
    "    card_avgs(change.new, xmax_slider.value, ymin_slider.value, ymax_slider.value)\n",
    "    \n",
    "def xmax_slider_eventhandler(change):\n",
    "    card_avgs(xmin_slider.value, change.new, ymin_slider.value, ymax_slider.value)\n",
    "    \n",
    "def ymin_slider_eventhandler(change):\n",
    "    card_avgs(xmin_slider.value, xmax_slider.value, change.new, ymax_slider.value)\n",
    "    \n",
    "def ymax_slider_eventhandler(change):\n",
    "    card_avgs(xmin_slider.value, xmax_slider.value, ymin_slider.value, change.new)\n",
    "    \n",
    "wr_slider.observe(wr_slider_eventhandler, names='value')\n",
    "color_dropdown.observe(color_dropdown_eventhandler, names='value')\n",
    "card_selectmultiple.observe(card_selectmultiple_eventhandler, names='value')\n",
    "    \n",
    "xmin_slider.observe(xmin_slider_eventhandler, names='value')\n",
    "xmax_slider.observe(xmax_slider_eventhandler, names='value')\n",
    "ymin_slider.observe(ymin_slider_eventhandler, names='value')\n",
    "ymax_slider.observe(ymax_slider_eventhandler, names='value')"
   ]
  },
  {
   "cell_type": "markdown",
   "id": "d976f4cd",
   "metadata": {},
   "source": [
    "# GUI"
   ]
  },
  {
   "cell_type": "code",
   "execution_count": 16,
   "id": "48eca9bf",
   "metadata": {
    "scrolled": false
   },
   "outputs": [
    {
     "data": {
      "application/vnd.jupyter.widget-view+json": {
       "model_id": "08e45b4711dd4080a00530fd40a85d6c",
       "version_major": 2,
       "version_minor": 0
      },
      "text/plain": [
       "VBox(children=(HBox(children=(FloatSlider(value=0.0, description='Min WR:', max=1.0, step=0.01), Dropdown(opti…"
      ]
     },
     "metadata": {},
     "output_type": "display_data"
    }
   ],
   "source": [
    "#matplotlib settings\n",
    "plt.rcParams['figure.figsize'] = [5, 5]\n",
    "plt.rcParams['figure.dpi'] = 100\n",
    "\n",
    "#input widgets\n",
    "input_widgets = widgets.HBox(\n",
    "[wr_slider, color_dropdown, card_selectmultiple])\n",
    "#explore widgets\n",
    "explore_widgets = widgets.HBox(\n",
    "[xmin_slider, xmax_slider, ymin_slider, ymax_slider])\n",
    "#output widgets\n",
    "tab = widgets.Tab([plot_output, output])\n",
    "tab.set_title(0, 'Deck Similarity')\n",
    "tab.set_title(1, 'Deck Data')\n",
    "#dashboard then display\n",
    "dashboard = widgets.VBox([input_widgets, tab, explore_widgets, explore_output])\n",
    "display(dashboard)"
   ]
  },
  {
   "cell_type": "code",
   "execution_count": null,
   "id": "7f636d75",
   "metadata": {},
   "outputs": [],
   "source": []
  }
 ],
 "metadata": {
  "celltoolbar": "Raw Cell Format",
  "kernelspec": {
   "display_name": "Python 3 (ipykernel)",
   "language": "python",
   "name": "python3"
  },
  "language_info": {
   "codemirror_mode": {
    "name": "ipython",
    "version": 3
   },
   "file_extension": ".py",
   "mimetype": "text/x-python",
   "name": "python",
   "nbconvert_exporter": "python",
   "pygments_lexer": "ipython3",
   "version": "3.8.2"
  }
 },
 "nbformat": 4,
 "nbformat_minor": 5
}

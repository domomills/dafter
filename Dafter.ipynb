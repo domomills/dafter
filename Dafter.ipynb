{
 "cells": [
  {
   "cell_type": "markdown",
   "id": "84c0b035",
   "metadata": {},
   "source": [
    "Enable notebook to graph inline"
   ]
  },
  {
   "cell_type": "code",
   "execution_count": 159,
   "id": "4143f6d7",
   "metadata": {},
   "outputs": [],
   "source": [
    "%matplotlib inline"
   ]
  },
  {
   "cell_type": "markdown",
   "id": "55783437",
   "metadata": {},
   "source": [
    "Import dependancies."
   ]
  },
  {
   "cell_type": "code",
   "execution_count": 160,
   "id": "97bd9f0e",
   "metadata": {},
   "outputs": [],
   "source": [
    "import numpy as np\n",
    "import pandas as pd\n",
    "import seaborn as sns\n",
    "import matplotlib.pyplot as plt\n",
    "from sklearn.decomposition import TruncatedSVD"
   ]
  },
  {
   "cell_type": "markdown",
   "id": "36125b2c",
   "metadata": {},
   "source": [
    "Expansion specific global variables."
   ]
  },
  {
   "cell_type": "code",
   "execution_count": 161,
   "id": "4ebf349d",
   "metadata": {},
   "outputs": [],
   "source": [
    "EXPANSION = 'MID'\n",
    "CSV_NAMES = {'MID':\"game_data_public.MID.PremierDraft.csv\"}\n",
    "DECK_COLUMNS = {'MID': [562,834]}\n",
    "#To get information on new set use: df.info(max_cols=1106)"
   ]
  },
  {
   "cell_type": "markdown",
   "id": "dbd5ee49",
   "metadata": {},
   "source": [
    "## Import 17lands data"
   ]
  },
  {
   "cell_type": "markdown",
   "id": "aa181ecf",
   "metadata": {},
   "source": [
    "Define data types for importing 17lands data."
   ]
  },
  {
   "cell_type": "code",
   "execution_count": 162,
   "id": "4d9dcf3a",
   "metadata": {},
   "outputs": [],
   "source": [
    "MAX_MULLIGANS = 7\n",
    "MAX_TURNS = 30\n",
    "\n",
    "BASE_COLS = {\n",
    "    'draft_id': str,\n",
    "    'history_id': int,\n",
    "    'time': str,\n",
    "    'expansion': str,\n",
    "    'format': str,\n",
    "    'user_rank': str,\n",
    "    'oppo_rank': str,\n",
    "    'game_index': 'int8',\n",
    "    'user_deck_colors': str,\n",
    "    'oppo_deck_colors': str,\n",
    "    'user_mulligans': 'int8',\n",
    "    'oppo_mulligans': 'int8',\n",
    "    'on_play': bool,\n",
    "    'turns': 'int8',\n",
    "    'won': bool,\n",
    "    'missing_diffs': 'int8',\n",
    "}\n",
    "\n",
    "PER_TURN_COLS = {\n",
    "    'cards_drawn': str,\n",
    "    'cards_discarded': str,\n",
    "    'lands_played': str,\n",
    "    'cards_foretold': str,\n",
    "    'creatures_cast': str,\n",
    "    'non_creatures_cast': str,\n",
    "    'user_instants_sorceries_cast': str,\n",
    "    'oppo_instants_sorceries_cast': str,\n",
    "    'user_abilities': str,\n",
    "    'oppo_abilities': str,\n",
    "    'user_cards_learned': str,\n",
    "    'oppo_cards_learned': str,\n",
    "    'creatures_attacked': str,\n",
    "    'creatures_blocked': str,\n",
    "    'creatures_unblocked': str,\n",
    "    'creatures_blocking': str,\n",
    "    'player_combat_damage_dealt': 'int8',\n",
    "    'user_creatures_killed_combat': str,\n",
    "    'oppo_creatures_killed_combat': str,\n",
    "    'user_creatures_killed_non_combat': str,\n",
    "    'oppo_creatures_killed_non_combat': str,\n",
    "    'user_mana_spent': 'int8',\n",
    "    'oppo_mana_spent': 'int8',\n",
    "    'eot_user_cards_in_hand': str,\n",
    "    'eot_oppo_cards_in_hand': str,\n",
    "    'eot_user_lands_in_play': str,\n",
    "    'eot_oppo_lands_in_play': str,\n",
    "    'eot_user_creatures_in_play': str,\n",
    "    'eot_oppo_creatures_in_play': str,\n",
    "    'eot_user_non_creatures_in_play': str,\n",
    "    'eot_oppo_non_creatures_in_play': str,\n",
    "    'eot_user_life': 'int8',\n",
    "    'eot_oppo_life': 'int8',\n",
    "}\n",
    "\n",
    "SUMMARY_COLS = {\n",
    "    'cards_drawn': 'int8',\n",
    "    'cards_discarded': 'int8',\n",
    "    'lands_played': 'int8',\n",
    "    'cards_foretold': 'int8',\n",
    "    'creatures_cast': 'int8',\n",
    "    'non_creatures_cast': 'int8',\n",
    "    'instants_sorceries_cast': 'int8',\n",
    "    'cards_learned': 'int8',\n",
    "    'mana_spent': 'int16',\n",
    "}\n",
    "\n",
    "def get_dtypes():\n",
    "    dtypes = BASE_COLS.copy()\n",
    "\n",
    "    for x in range(1, MAX_MULLIGANS+1):\n",
    "        dtypes[f'candidate_hand_{x}'] = str\n",
    "    dtypes['opening_hand'] = str\n",
    "\n",
    "    for turn in range(1, MAX_TURNS+1):\n",
    "        for player in ['user', 'oppo']:\n",
    "            for k, v in PER_TURN_COLS.items():\n",
    "                dtypes[f'{player}_turn_{turn}_{k}'] = v\n",
    "            dtypes[f'{player}_turn_{turn}_eot_oppo_cards_in_hand'] = 'int8'\n",
    "        dtypes[f'oppo_turn_{turn}_cards_drawn'] = 'int8'\n",
    "\n",
    "    for player in ['user', 'oppo']:\n",
    "        for col in SUMMARY_COLS:\n",
    "            dtypes[f'{player}_total_{col}'] = 'int8'\n",
    "\n",
    "    return dtypes"
   ]
  },
  {
   "cell_type": "markdown",
   "id": "38e29ec6",
   "metadata": {},
   "source": [
    "Load 17lands data into dataframe."
   ]
  },
  {
   "cell_type": "code",
   "execution_count": 163,
   "id": "b79d3b28",
   "metadata": {
    "scrolled": false
   },
   "outputs": [
    {
     "name": "stderr",
     "output_type": "stream",
     "text": [
      "/Users/dommil/Documents/projects/dafter/jupyter/lib/python3.8/site-packages/IPython/core/interactiveshell.py:3444: DtypeWarning: Columns (9) have mixed types.Specify dtype option on import or set low_memory=False.\n",
      "  exec(code_obj, self.user_global_ns, self.user_ns)\n"
     ]
    }
   ],
   "source": [
    "dtypes=get_dtypes()\n",
    "df = pd.read_csv(CSV_NAMES['MID'], dtype=dtypes)"
   ]
  },
  {
   "cell_type": "markdown",
   "id": "d275f726",
   "metadata": {},
   "source": [
    "# Helper functions"
   ]
  },
  {
   "cell_type": "markdown",
   "id": "246f7699",
   "metadata": {},
   "source": [
    "Create a subset of entire DataFrame that contains just specified card (eg. `'Siege Zombie'`)."
   ]
  },
  {
   "cell_type": "code",
   "execution_count": 164,
   "id": "96e68746",
   "metadata": {},
   "outputs": [],
   "source": [
    "def decks_with_card(card):\n",
    "    #select just deck information\n",
    "    decks = df.iloc[:,DECK_COLUMNS[EXPANSION][0]:DECK_COLUMNS[EXPANSION][1]]\n",
    "    #select decks that contain specified card\n",
    "    decks = decks[decks['deck_' + card] > 0]\n",
    "    return decks"
   ]
  },
  {
   "cell_type": "markdown",
   "id": "6a394c1d",
   "metadata": {},
   "source": [
    "Create a subset of entire DataFrame that contains specific color pairing (eg. `'UW'`)."
   ]
  },
  {
   "cell_type": "code",
   "execution_count": 194,
   "id": "4353eb18",
   "metadata": {},
   "outputs": [],
   "source": [
    "def decks_with_cp(cp):\n",
    "    #select decks that contain specified color pairing\n",
    "    decks = df[df['main_colors'] == cp]\n",
    "    #select just deck information\n",
    "    decks = decks.iloc[:,DECK_COLUMNS[EXPANSION][0]:DECK_COLUMNS[EXPANSION][1]]\n",
    "    return decks"
   ]
  },
  {
   "cell_type": "markdown",
   "id": "1f2a3491",
   "metadata": {},
   "source": [
    "Create scatter plot of decks. Returns DataFrame that is shape (n, 2)."
   ]
  },
  {
   "cell_type": "code",
   "execution_count": 197,
   "id": "5b68feae",
   "metadata": {},
   "outputs": [],
   "source": [
    "def graph_scatter(decks, df=df):\n",
    "    # define transform\n",
    "    svd = TruncatedSVD()\n",
    "    # prepare transform on dataset\n",
    "    svd.fit(decks)\n",
    "    # apply transform to dataset\n",
    "    transformed = svd.transform(decks)\n",
    "    #change to a DataFrame\n",
    "    t = pd.DataFrame(data=transformed, columns=['a','b'])\n",
    "    #C parameter is the winrate of deck\n",
    "    plt.scatter(t['a'], t['b'], c=df.iloc[t.index,0], cmap='viridis')\n",
    "    plt.grid()\n",
    "    return t"
   ]
  },
  {
   "cell_type": "markdown",
   "id": "562db02e",
   "metadata": {},
   "source": [
    "Show a list of the average number of cards within a given cluster of transform 't' defined by the boundries amin, amax, bmin and bmax."
   ]
  },
  {
   "cell_type": "code",
   "execution_count": 181,
   "id": "2d733461",
   "metadata": {},
   "outputs": [],
   "source": [
    "def card_avgs(decks, t, amin, amax, bmin, bmax, num_cards=50):\n",
    "    #find decks within the boundries\n",
    "    t = t[t['a']>amin]\n",
    "    t = t[t['a']<amax]\n",
    "    t = t[t['b']>bmin]\n",
    "    t = t[t['b']<bmax]\n",
    "    #pull out the corresponding rows from decks\n",
    "    decks = decks.iloc[t.index]\n",
    "    #remove any columns with all zeros\n",
    "    decks = decks.loc[:, (decks != 0).any(axis=0)]\n",
    "    #take the mean of each column\n",
    "    decks = decks.mean()\n",
    "    #sort by largest to lowest\n",
    "    decks = decks.sort_values(ascending=False)\n",
    "    print(decks.head(num_cards))\n",
    "    #graph histogram\n",
    "    #plt.hist(deck, orientation='horizontal')\n",
    "    #sns.displot(deck.head(), x=deck.head().index, orientation='horizontal')\n"
   ]
  },
  {
   "cell_type": "markdown",
   "id": "e804afd6",
   "metadata": {},
   "source": [
    "# Analysis"
   ]
  },
  {
   "cell_type": "markdown",
   "id": "14ae1055",
   "metadata": {},
   "source": [
    "Use the below cells to analyze decks!"
   ]
  },
  {
   "cell_type": "code",
   "execution_count": 195,
   "id": "c425e705",
   "metadata": {
    "scrolled": false
   },
   "outputs": [],
   "source": [
    "#decks = decks_with_card('Siege Zombie')\n",
    "decks = decks_with_cp('WG')"
   ]
  },
  {
   "cell_type": "code",
   "execution_count": 198,
   "id": "2c7b6204",
   "metadata": {
    "scrolled": true
   },
   "outputs": [
    {
     "data": {
      "image/png": "[encoded data removed]",
      "text/plain": [
       "<Figure size 432x288 with 1 Axes>"
      ]
     },
     "metadata": {
      "needs_background": "light"
     },
     "output_type": "display_data"
    }
   ],
   "source": [
    "t = graph_scatter(decks)"
   ]
  },
  {
   "cell_type": "code",
   "execution_count": 199,
   "id": "d13dde06",
   "metadata": {
    "scrolled": false
   },
   "outputs": [
    {
     "name": "stdout",
     "output_type": "stream",
     "text": [
      "deck_Plains                          7.00\n",
      "deck_Forest                          5.00\n",
      "deck_Lunarch Veteran                 2.25\n",
      "deck_Dawnhart Rejuvenator            1.90\n",
      "deck_Candlegrove Witch               1.65\n",
      "deck_Mountain                        1.50\n",
      "deck_Unruly Mob                      1.35\n",
      "deck_Chaplain of Alms                1.25\n",
      "deck_Soul-Guide Gryff                1.10\n",
      "deck_Island                          1.05\n",
      "deck_Evolving Wilds                  1.00\n",
      "deck_Gavony Trapper                  1.00\n",
      "deck_Cathar Commando                 0.80\n",
      "deck_Sunset Revelry                  0.70\n",
      "deck_Sacred Fire                     0.65\n",
      "deck_Path to the Festival            0.55\n",
      "deck_Bereaved Survivor               0.55\n",
      "deck_Gavony Silversmith              0.55\n",
      "deck_Beloved Beggar                  0.55\n",
      "deck_Storm the Festival              0.45\n",
      "deck_Augur of Autumn                 0.45\n",
      "deck_Timberland Guide                0.45\n",
      "deck_Rockfall Vale                   0.45\n",
      "deck_Tireless Hauler                 0.45\n",
      "deck_Village Watch                   0.45\n",
      "deck_Cathartic Pyre                  0.45\n",
      "deck_Dawnhart Wardens                0.45\n",
      "deck_Consuming Blob                  0.45\n",
      "deck_Clear Shot                      0.35\n",
      "deck_Borrowed Time                   0.35\n",
      "deck_Briarbridge Tracker             0.35\n",
      "deck_Flare of Faith                  0.35\n",
      "deck_Teferi, Who Slows the Sunset    0.35\n",
      "deck_Rise of the Ants                0.35\n",
      "deck_Saryth, the Viper's Fang        0.35\n",
      "deck_Sungold Barrage                 0.35\n",
      "deck_Sigardian Savior                0.35\n",
      "deck_Hound Tamer                     0.20\n",
      "deck_Bird Admirer                    0.20\n",
      "deck_Clarion Cathars                 0.20\n",
      "deck_Search Party Captain            0.20\n",
      "deck_Silver Bolt                     0.20\n",
      "deck_Might of the Old Ways           0.20\n",
      "deck_Defend the Celestus             0.20\n",
      "deck_Pestilent Wolf                  0.20\n",
      "deck_Mourning Patrol                 0.20\n",
      "deck_Hostile Hostel                  0.20\n",
      "deck_Moonrager's Slash               0.20\n",
      "deck_Angelfire Ignition              0.20\n",
      "dtype: float64\n"
     ]
    }
   ],
   "source": [
    "card_avgs(decks, t, 8.8, 9, -2.1, -1.5)"
   ]
  },
  {
   "cell_type": "code",
   "execution_count": null,
   "id": "5b20b1fe",
   "metadata": {},
   "outputs": [],
   "source": []
  }
 ],
 "metadata": {
  "celltoolbar": "Raw Cell Format",
  "kernelspec": {
   "display_name": "Python 3 (ipykernel)",
   "language": "python",
   "name": "python3"
  },
  "language_info": {
   "codemirror_mode": {
    "name": "ipython",
    "version": 3
   },
   "file_extension": ".py",
   "mimetype": "text/x-python",
   "name": "python",
   "nbconvert_exporter": "python",
   "pygments_lexer": "ipython3",
   "version": "3.8.2"
  }
 },
 "nbformat": 4,
 "nbformat_minor": 5
}
